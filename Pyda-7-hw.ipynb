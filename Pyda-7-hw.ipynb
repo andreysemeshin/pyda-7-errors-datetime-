{
 "cells": [
  {
   "cell_type": "code",
   "execution_count": 6,
   "metadata": {},
   "outputs": [
    {
     "name": "stdout",
     "output_type": "stream",
     "text": [
      "Введите начало: 2019-01-01\n",
      "Введите конец: 2019-02-01\n",
      "Дни между дат:  ['2019-01-02', '2019-01-03', '2019-01-04', '2019-01-05', '2019-01-06', '2019-01-07', '2019-01-08', '2019-01-09', '2019-01-10', '2019-01-11', '2019-01-12', '2019-01-13', '2019-01-14', '2019-01-15', '2019-01-16', '2019-01-17', '2019-01-18', '2019-01-19', '2019-01-20', '2019-01-21', '2019-01-22', '2019-01-23', '2019-01-24', '2019-01-25', '2019-01-26', '2019-01-27', '2019-01-28', '2019-01-29', '2019-01-30', '2019-01-31']\n"
     ]
    }
   ],
   "source": [
    "# Задагние 1\n",
    "from datetime import datetime\n",
    "from datetime import timedelta\n",
    "\n",
    "def date_range(start_date, end_date):\n",
    "    list_dates = []\n",
    "    start_date_dt = datetime.strptime(start_date, '%Y-%m-%d') \n",
    "    end_date_dt = datetime.strptime(end_date, '%Y-%m-%d') \n",
    "    while start_date_dt < (end_date_dt + timedelta(days=-1)):\n",
    "        start_date_dt+= timedelta(days=1)\n",
    "        list_dates.append(start_date_dt.strftime('%Y-%m-%d'))\n",
    "    return list_dates    \n",
    "    \n",
    "start_date = input('Введите начало: ')\n",
    "end_date = input('Введите конец: ')\n",
    "print('Дни между дат: ', date_range(start_date, end_date))\n"
   ]
  },
  {
   "cell_type": "code",
   "execution_count": 10,
   "metadata": {},
   "outputs": [
    {
     "name": "stdout",
     "output_type": "stream",
     "text": [
      "Введите начало: 123123\n",
      "Введите конец: 1231\n",
      "Дата неверная\n",
      "Дни между дат:  []\n"
     ]
    }
   ],
   "source": [
    "# Задание 2\n",
    "\n",
    "from datetime import datetime\n",
    "from datetime import timedelta\n",
    "\n",
    "def date_range(start_date, end_date):\n",
    "    try:\n",
    "        list_dates = []\n",
    "        start_date_dt = datetime.strptime(start_date, '%Y-%m-%d') \n",
    "        end_date_dt = datetime.strptime(end_date, '%Y-%m-%d') \n",
    "        if start_date_dt < end_date_dt:\n",
    "            while start_date_dt < (end_date_dt + timedelta(days=-1)):\n",
    "                start_date_dt+= timedelta(days=1)\n",
    "                list_dates.append(start_date_dt.strftime('%Y-%m-%d'))\n",
    "        else:\n",
    "            print('Дата неверная')\n",
    "    except:\n",
    "        print('Дата неверная')\n",
    "    return list_dates    \n",
    "    \n",
    "start_date = input('Введите начало: ')\n",
    "end_date = input('Введите конец: ')\n",
    "print('Дни между дат: ', date_range(start_date, end_date))\n"
   ]
  },
  {
   "cell_type": "code",
   "execution_count": 16,
   "metadata": {},
   "outputs": [
    {
     "name": "stdout",
     "output_type": "stream",
     "text": [
      "{'2018-04-02': True, '2018-02-29': False, '2018-19-02': False}\n"
     ]
    }
   ],
   "source": [
    "# Задание 3\n",
    "\n",
    "from datetime import datetime\n",
    "stream = ['2018-04-02', '2018-02-29', '2018-19-02']\n",
    "\n",
    "def correct_date(stream):\n",
    "    dict_dates = {}\n",
    "    for i in stream:\n",
    "        try:\n",
    "            temp_date = datetime.strptime(i, '%Y-%m-%d')\n",
    "#             print(temp_date)\n",
    "            dict_dates[i] = True\n",
    "        except:\n",
    "            dict_dates[i] = False\n",
    "    return dict_dates        \n",
    "    \n",
    "print(correct_date(stream))"
   ]
  },
  {
   "cell_type": "code",
   "execution_count": 26,
   "metadata": {},
   "outputs": [
    {
     "name": "stdout",
     "output_type": "stream",
     "text": [
      "A101\n"
     ]
    }
   ],
   "source": [
    "# Задание 4\n",
    "\n",
    "DEFAULT_USER_COUNT = 3\n",
    "\n",
    "def delete_and_return_last_user(region, default_list=['A100', 'A101', 'A102']):\n",
    "    \"\"\"\n",
    "    Удаляет из списка default_list последнего пользователя\n",
    "    и возвращает ID нового последнего пользователя.\n",
    "    \"\"\"\n",
    "    element_to_delete = default_list[-1]\n",
    "    default_list.remove(element_to_delete)\n",
    "\n",
    "    \n",
    "    return default_list[DEFAULT_USER_COUNT-2]\n",
    "\n",
    "print(delete_and_return_last_user(1))\n",
    "\n",
    "\n",
    "# Ошибка означает что мы обращаемся к элементу списка, которого нет.\n",
    "# То есть как бы за его пределы.\n",
    "# В данном случае:\n",
    "#     После удаления последнего элмента функция возвращает элемент [1], то есть второй из списка с начала\n",
    "#     Но при повторном вызове функции в списке остается один элемент, а функция возвращает второй элемент\n",
    "#     из списка состоящего из одного элемента, поэтому имеем ошибку list index out of range\n",
    "#     В данном случае можно возвращать элемент [-1] - так мы образаемся всегда к последнему элементу\n",
    "#     Плюс нужно добавить проверку на длину len(default_list) чтобы проверять что список длинее чем 0 элементов\n",
    "    \n"
   ]
  },
  {
   "cell_type": "code",
   "execution_count": null,
   "metadata": {},
   "outputs": [],
   "source": []
  },
  {
   "cell_type": "code",
   "execution_count": null,
   "metadata": {},
   "outputs": [],
   "source": []
  },
  {
   "cell_type": "code",
   "execution_count": null,
   "metadata": {},
   "outputs": [],
   "source": []
  },
  {
   "cell_type": "code",
   "execution_count": null,
   "metadata": {},
   "outputs": [],
   "source": []
  },
  {
   "cell_type": "code",
   "execution_count": null,
   "metadata": {},
   "outputs": [],
   "source": []
  }
 ],
 "metadata": {
  "kernelspec": {
   "display_name": "Python 3",
   "language": "python",
   "name": "python3"
  },
  "language_info": {
   "codemirror_mode": {
    "name": "ipython",
    "version": 3
   },
   "file_extension": ".py",
   "mimetype": "text/x-python",
   "name": "python",
   "nbconvert_exporter": "python",
   "pygments_lexer": "ipython3",
   "version": "3.7.4"
  }
 },
 "nbformat": 4,
 "nbformat_minor": 2
}
